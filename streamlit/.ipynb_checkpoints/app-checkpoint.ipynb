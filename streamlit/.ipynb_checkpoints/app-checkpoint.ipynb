{
 "cells": [
  {
   "cell_type": "code",
   "execution_count": 25,
   "id": "32904e13",
   "metadata": {},
   "outputs": [],
   "source": [
    "# !pip install streamlit\n",
    "# !pip install spacy\n",
    "\n",
    "# импортируем общие библиотеки\n",
    "import os\n",
    "import numpy as np               # version 1.21.1\n",
    "import pandas as pd              # version 1.2.4\n",
    "import pysrt                     # version 1.1.2\n",
    "import spacy                     # version 3.2.0\n",
    "import re                        \n",
    "from joblib import load    # version 1.2.0\n",
    "# импортируем библиотеку streamlit\n",
    "import streamlit as st\n",
    "\n",
    "\n",
    "# имя загружаемой модели\n",
    "MODELS_NAME = 'model_bayesNB.joblib'\n",
    "\n",
    "# имя загружаемого словаря oxford\n",
    "OXFORD_NAME = 'classic_oxford.joblib'\n",
    "\n",
    "# загрузка словаря oxford\n",
    "oxford_words = load(f'../oxford/{OXFORD_NAME}')\n",
    "\n",
    "# загрузка модели\n",
    "model = load(f'../models/{MODELS_NAME}')\n",
    "\n",
    "\n",
    "# Header страницы\n",
    "st.set_page_config(page_title='Уровень английского в субтитрах', \n",
    "                   page_icon='🎞', \n",
    "                   layout=\"centered\", \n",
    "                   initial_sidebar_state=\"auto\", \n",
    "                   menu_items=None)\n",
    "\n",
    "with st.container():\n",
    "    st.header('Узнайте уровень английского по субтитрам')\n",
    "\n",
    "#     \n",
    "# uploaded_file = st.file_uploader('Загрузите файл с субтитрами в формате .srt', type='.srt', key=None)\n",
    "# youtube = st.text_input('или укажите ссылку на YouTube-видео')\n",
    "# confirm = st.button('Проверить видео по ссылке')\n",
    "# \n",
    "# # по умолчанию показываем демо-файл\n",
    "# filename = EXAMPLE_SUBS\n",
    "# fullpath = os.path.join(DIRNAME,filename)\n",
    "# encoding = chardet.detect(open(fullpath, \"rb\").read())['encoding']\n",
    "# content = pysrt.open(fullpath, encoding=encoding)\n",
    "# \n",
    "# # запрос на ютуб – выбираем видео id и пытаемся скачать сабы\n",
    "# if youtube!='' and confirm:\n",
    "#     try:\n",
    "#         uploaded_file = None\n",
    "#         pattern = r'(v=[\\w-]+)|(youtu\\.be\\/[\\w-]+)|(embed\\/[\\w-]+)'\n",
    "#         video_id = re.split(r'[^\\w-]',re.search(pattern, youtube).group())[-1]\n",
    "#         transcript = YouTubeTranscriptApi.get_transcript(video_id,languages=['en'])\n",
    "#         formatter = SRTFormatter()\n",
    "#         srt = formatter.format_transcript(transcript)\n",
    "#         content = pysrt.from_string(srt)\n",
    "#         filename = youtube\n",
    "#     except:\n",
    "#         st.error(f'К сожалению, субтитры {youtube} недоступны')\n",
    "#         demo_subs()\n",
    "# \n",
    "# # если файл загружен, то определяем кодировку, декодируем и передаем в pysrt\n",
    "# if uploaded_file is not None:\n",
    "#     try:\n",
    "#         youtube = ''\n",
    "#         encoding = chardet.detect(uploaded_file.getvalue())['encoding']\n",
    "#         content = pysrt.from_string(uploaded_file.getvalue().decode(encoding))\n",
    "#         filename = uploaded_file.name\n",
    "#     except:\n",
    "#         st.error(f'К сожалению, не удалось распознать файл')\n",
    "#         demo_subs()\n",
    "# \n",
    "# # обработка файла и предсказание\n",
    "# st.subheader(filename)\n",
    "# with st.spinner('Рассчитываем...'):\n",
    "#     movies = process.process_data(content)\n",
    "#     if len(movies)>0:\n",
    "#         level  = model.predict(movies)[0]\n",
    "#     else:\n",
    "#         filename = EXAMPLE_SUBS\n",
    "# \n",
    "# \n",
    "# '---'\n",
    "# # расшифровываем предикт в юзер-френдли форму и выводим на страницу\n",
    "# max_level   = len(ENGLISH_LEVELS)-1\n",
    "# round_level = ENGLISH_LEVELS[min(round(level), max_level)]\n",
    "# floor_level = ENGLISH_LEVELS[min(int(level), max_level)]\n",
    "# ceil_level  = ENGLISH_LEVELS[min(int(level)+1, max_level)]\n",
    "# \n",
    "# user_level    = ENGLISH_LEVELS[max_level]+'+' if level>=max_level else \\\n",
    "#                 floor_level+'+' if 0.2<=level%1<0.5 else \\\n",
    "#                 floor_level+'+/'+ceil_level if 0.5<=level%1<0.8 else \\\n",
    "#                 round_level\n",
    "# \n",
    "# st.subheader('Уровень сложности')\n",
    "# st.write(f'Для оценки мы используем опыт специалистов и словари Oxford. '\n",
    "#          f'Наши преподаватели рекомендуют фильм для изучения языка на уровне '\n",
    "#          f'{user_level}.')\n",
    "# st.title(user_level)\n",
    "# \n",
    "# level_bar = st.progress(0)\n",
    "# for i in range(min(round(1/6 * level * 100),101)):\n",
    "#     level_bar.progress(i)\n",
    "#     time.sleep(0.001)\n",
    "# \n",
    "#     \n",
    "# '---'\n",
    "# st.subheader(f'Просмотр: первые 5 титров')\n",
    "# st.info('\\n\\n'.join(' '.join([str(s.start), s.text]) for s in content[:5]))\n",
    "# \n",
    "# \n",
    "# '---'\n",
    "# # подсчитаем уровни слов по оксфорду\n",
    "# words_under_level = movies[[l + 'ratio' for l in ENGLISH_LEVELS[:min(round(level),max_level)]]].sum(axis=1)[0]\n",
    "# words_upper_level = movies[[l + 'ratio' for l in ENGLISH_LEVELS[min(round(level),max_level):max_level]]].sum(axis=1)[0]\n",
    "# \n",
    "# st.subheader('Стандарт CEFR')\n",
    "# st.write('В словарях Oxford 3000 и 5000 — наиболее важные слова, которые должен знать каждый, кто учит английский.')\n",
    "# st.write('Словарь Oxford соответствует стандартам CEFR – The Common European Framework of Reference for Languages. '\n",
    "#          'Это общеевропейские компетенции владения иностранным языком: изучение, преподавание, оценка — '\n",
    "#          'система уровней владения иностранным языком, используемая в Европейском Союзе.')\n",
    "# st.write('Мы рассчитали, слова какого уровня чаще всего встречаются в фильме:')\n",
    "# \n",
    "# if words_under_level > 0:\n",
    "#     st.progress(words_under_level, text=f\"{words_under_level:.0%} слов до {round_level} уровня включительно\")\n",
    "# \n",
    "# if words_upper_level > 0:\n",
    "#     st.progress(words_upper_level, text=f\"{words_upper_level:.0%} слов превышают уровень {round_level} по сложности\")\n",
    "# \n",
    "# st.write('остальные слова не имеют определенного уровня.')\n",
    "#     \n",
    "# '---'\n",
    "# # подсчитаем длину слов\n",
    "# less_than_4 = movies.less_than_4ratio[0]\n",
    "# between_4_6 = movies[['len_equal_' + str(i) + 'ratio' for i in range(4,7)]].sum(axis=1)[0]\n",
    "# more_than_6 = movies.more_than_6ratio[0]\n",
    "# \n",
    "# st.subheader('Запас слов')\n",
    "# st.write(f'Всего в фильме встречается {movies.lemmas_unique[0]} разных слов.')\n",
    "# st.write('В целом герои фильма испольуют слова вот такой длины:')\n",
    "# \n",
    "# if less_than_4 > 0:\n",
    "#     st.progress(less_than_4, text=f\"Короткие слова не более трех букв: {less_than_4:.0%}\")\n",
    "# \n",
    "# if between_4_6 > 0:    \n",
    "#     st.progress(between_4_6, text=f\"Средние слова от четырех до шести букв: {between_4_6:.0%}\")\n",
    "#     \n",
    "# if more_than_6 > 0:\n",
    "#     st.progress(more_than_6, text=f\"Длинные слова от семи и больше букв: {more_than_6:.0%}\")\n",
    "# \n",
    "# '---'\n",
    "# # подвал\n",
    "# st.markdown('- Пишите письма [в телеграме](https://t.me/artefucktor)')\n",
    "# st.markdown('- или заходите [на гитхаб](https://github.com/artefucktor)')\n",
    "# \n",
    "# "
   ]
  }
 ],
 "metadata": {
  "ExecuteTimeLog": [
   {
    "duration": 4392,
    "start_time": "2023-05-12T10:34:49.493Z"
   },
   {
    "duration": 18213,
    "start_time": "2023-05-12T10:35:21.099Z"
   },
   {
    "duration": 2769,
    "start_time": "2023-05-12T10:35:49.445Z"
   },
   {
    "duration": 2913,
    "start_time": "2023-05-12T10:40:03.267Z"
   },
   {
    "duration": 29,
    "start_time": "2023-05-12T10:41:27.275Z"
   },
   {
    "duration": 21,
    "start_time": "2023-05-12T10:42:51.011Z"
   },
   {
    "duration": 4,
    "start_time": "2023-05-12T10:43:42.831Z"
   },
   {
    "duration": 5,
    "start_time": "2023-05-12T10:43:45.604Z"
   },
   {
    "duration": 10,
    "start_time": "2023-05-12T10:43:54.784Z"
   },
   {
    "duration": 23,
    "start_time": "2023-05-12T10:44:02.009Z"
   },
   {
    "duration": 21,
    "start_time": "2023-05-12T10:44:05.410Z"
   },
   {
    "duration": 4,
    "start_time": "2023-05-12T10:44:13.109Z"
   },
   {
    "duration": 27,
    "start_time": "2023-05-12T10:44:57.275Z"
   },
   {
    "duration": 105,
    "start_time": "2023-05-12T10:45:04.123Z"
   },
   {
    "duration": 35,
    "start_time": "2023-05-12T10:45:14.082Z"
   },
   {
    "duration": 44,
    "start_time": "2023-05-12T10:47:07.012Z"
   },
   {
    "duration": 49,
    "start_time": "2023-05-12T10:50:14.042Z"
   },
   {
    "duration": 174,
    "start_time": "2023-05-12T10:50:29.137Z"
   },
   {
    "duration": 67,
    "start_time": "2023-05-12T10:50:36.945Z"
   },
   {
    "duration": 25,
    "start_time": "2023-05-12T10:50:39.723Z"
   },
   {
    "duration": 52,
    "start_time": "2023-05-12T10:50:43.537Z"
   },
   {
    "duration": 89,
    "start_time": "2023-05-12T10:50:48.240Z"
   },
   {
    "duration": 34,
    "start_time": "2023-05-12T10:50:50.994Z"
   },
   {
    "duration": 28,
    "start_time": "2023-05-12T10:51:01.612Z"
   },
   {
    "duration": 537,
    "start_time": "2023-05-12T10:54:31.493Z"
   }
  ],
  "kernelspec": {
   "display_name": "Python 3 (ipykernel)",
   "language": "python",
   "name": "python3"
  },
  "language_info": {
   "codemirror_mode": {
    "name": "ipython",
    "version": 3
   },
   "file_extension": ".py",
   "mimetype": "text/x-python",
   "name": "python",
   "nbconvert_exporter": "python",
   "pygments_lexer": "ipython3",
   "version": "3.10.11"
  },
  "toc": {
   "base_numbering": 1,
   "nav_menu": {},
   "number_sections": true,
   "sideBar": true,
   "skip_h1_title": true,
   "title_cell": "Table of Contents",
   "title_sidebar": "Contents",
   "toc_cell": false,
   "toc_position": {},
   "toc_section_display": true,
   "toc_window_display": false
  }
 },
 "nbformat": 4,
 "nbformat_minor": 5
}
